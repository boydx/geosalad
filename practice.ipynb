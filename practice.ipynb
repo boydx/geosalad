{
 "cells": [
  {
   "cell_type": "code",
   "execution_count": 7,
   "metadata": {},
   "outputs": [
    {
     "name": "stdout",
     "output_type": "stream",
     "text": [
      "6\n"
     ]
    },
    {
     "data": {
      "text/plain": [
       "16"
      ]
     },
     "execution_count": 7,
     "metadata": {},
     "output_type": "execute_result"
    }
   ],
   "source": [
    "def function(x, y):\n",
    "    \"\"\"x to y power\"\"\"\n",
    "    z = int(x)**int(y)\n",
    "    print(int(x) + int(y))\n",
    "    return z\n",
    "\n",
    "function(2,4)"
   ]
  },
  {
   "cell_type": "code",
   "execution_count": 8,
   "metadata": {},
   "outputs": [
    {
     "name": "stdout",
     "output_type": "stream",
     "text": [
      "Help on function function in module __main__:\n",
      "\n",
      "function(x, y)\n",
      "    x to y power\n",
      "\n"
     ]
    }
   ],
   "source": [
    "help(function)"
   ]
  },
  {
   "cell_type": "code",
   "execution_count": 10,
   "metadata": {},
   "outputs": [
    {
     "name": "stdout",
     "output_type": "stream",
     "text": [
      "0.6\n"
     ]
    },
    {
     "data": {
      "text/plain": [
       "1.6"
      ]
     },
     "execution_count": 10,
     "metadata": {},
     "output_type": "execute_result"
    }
   ],
   "source": [
    "import decimal\n",
    "print(decimal.Decimal(str(0.4)) + decimal.Decimal(str(0.2)))\n",
    "round(1.55, 1)"
   ]
  },
  {
   "cell_type": "code",
   "execution_count": 19,
   "metadata": {},
   "outputs": [
    {
     "data": {
      "text/plain": [
       "'Hello World!'"
      ]
     },
     "execution_count": 19,
     "metadata": {},
     "output_type": "execute_result"
    }
   ],
   "source": [
    "x = 1.0\n",
    "y = x\n",
    "y is 1\n",
    "\"Hello World!\"[:12] "
   ]
  },
  {
   "cell_type": "code",
   "execution_count": 11,
   "metadata": {},
   "outputs": [],
   "source": [
    "getcontext().prec = 3"
   ]
  },
  {
   "cell_type": "code",
   "execution_count": 14,
   "metadata": {},
   "outputs": [
    {
     "name": "stdout",
     "output_type": "stream",
     "text": [
      "15.1\n"
     ]
    }
   ],
   "source": [
    "print(Decimal(\"7.5555\") + Decimal(\"7.5555\") )"
   ]
  },
  {
   "cell_type": "code",
   "execution_count": 20,
   "metadata": {},
   "outputs": [
    {
     "data": {
      "text/plain": [
       "12"
      ]
     },
     "execution_count": 20,
     "metadata": {},
     "output_type": "execute_result"
    }
   ],
   "source": [
    "\"Hello World!\"[11]\n",
    "len(\"Hello World!\")"
   ]
  },
  {
   "cell_type": "code",
   "execution_count": 6,
   "metadata": {},
   "outputs": [
    {
     "name": "stdout",
     "output_type": "stream",
     "text": [
      "What is your height in feet: -4\n",
      "Is that even possible?\n"
     ]
    }
   ],
   "source": [
    "\n",
    "# This should run for any number entered.\n",
    "x = input(\"What is your height in feet: \")\n",
    "y = ((float(x)/250)*100)\n",
    "if int(x) == 1:\n",
    "    print(\"For real?\")\n",
    "elif int(x) <= 0:\n",
    "    print(\"Is that even possible?\")\n",
    "else:\n",
    "    print(\"You are \" + str(y) + \"% the height of POT! \")"
   ]
  },
  {
   "cell_type": "code",
   "execution_count": 2,
   "metadata": {},
   "outputs": [
    {
     "name": "stdout",
     "output_type": "stream",
     "text": [
      "['Silvermine Arch', 'Castle Arch', 'Rock Bridge Arch']\n"
     ]
    },
    {
     "data": {
      "text/plain": [
       "range(0, 3)"
      ]
     },
     "execution_count": 2,
     "metadata": {},
     "output_type": "execute_result"
    }
   ],
   "source": [
    "archesList = ['Silvermine Arch', 'Castle Arch', 'Rock Bridge Arch']\n",
    "print(archesList) # ['Silvermine Arch', 'Castle Arch', 'Rock Bridge Arch', 'Whistling Arch', 'Red-byrd Arch', 'Whittleton Arch']\n",
    "len(archesList) # 6\n",
    "range(len(archesList)) # range(0, 6)"
   ]
  },
  {
   "cell_type": "code",
   "execution_count": 3,
   "metadata": {},
   "outputs": [
    {
     "name": "stdout",
     "output_type": "stream",
     "text": [
      "0\n",
      "The index of Silvermine Arch is 0\n",
      "1\n",
      "The index of Castle Arch is 1\n",
      "2\n",
      "The index of Rock Bridge Arch is 2\n"
     ]
    }
   ],
   "source": [
    "for i in range(len(archesList)):\n",
    "    print(i)\n",
    "    print(f\"The index of {archesList[i]} is {i}\")"
   ]
  },
  {
   "cell_type": "code",
   "execution_count": 4,
   "metadata": {},
   "outputs": [
    {
     "data": {
      "text/plain": [
       "range(0, 10)"
      ]
     },
     "execution_count": 4,
     "metadata": {},
     "output_type": "execute_result"
    }
   ],
   "source": [
    "range(len(\"archesList\"))"
   ]
  },
  {
   "cell_type": "code",
   "execution_count": 8,
   "metadata": {},
   "outputs": [
    {
     "ename": "SyntaxError",
     "evalue": "keyword can't be an expression (<ipython-input-8-c4a89347eee4>, line 1)",
     "output_type": "error",
     "traceback": [
      "\u001b[0;36m  File \u001b[0;32m\"<ipython-input-8-c4a89347eee4>\"\u001b[0;36m, line \u001b[0;32m1\u001b[0m\n\u001b[0;31m    x = archesList.sort(\"reverse\"=True)\u001b[0m\n\u001b[0m                       ^\u001b[0m\n\u001b[0;31mSyntaxError\u001b[0m\u001b[0;31m:\u001b[0m keyword can't be an expression\n"
     ]
    }
   ],
   "source": [
    "x = archesList.sort(reverse=True)"
   ]
  },
  {
   "cell_type": "code",
   "execution_count": 9,
   "metadata": {},
   "outputs": [
    {
     "data": {
      "text/plain": [
       "['Silvermine Arch', 'Rock Bridge Arch', 'Castle Arch']"
      ]
     },
     "execution_count": 9,
     "metadata": {},
     "output_type": "execute_result"
    }
   ],
   "source": [
    "archesList"
   ]
  },
  {
   "cell_type": "code",
   "execution_count": 17,
   "metadata": {},
   "outputs": [
    {
     "data": {
      "text/plain": [
       "(None, ['Castle Arch', 'Rock Bridge Arch', 'Silvermine Arch'])"
      ]
     },
     "execution_count": 17,
     "metadata": {},
     "output_type": "execute_result"
    }
   ],
   "source": [
    "y, x"
   ]
  },
  {
   "cell_type": "code",
   "execution_count": 31,
   "metadata": {},
   "outputs": [],
   "source": [
    "archesList += ['Steamboat Rock', \"twenty!!\"],['Steamboat Rock', \"twenty!!\"]"
   ]
  },
  {
   "cell_type": "code",
   "execution_count": 36,
   "metadata": {},
   "outputs": [
    {
     "data": {
      "text/plain": [
       "['Silvermine Arch',\n",
       " 'Castle Arch',\n",
       " 'Rock Bridge Arch',\n",
       " 'Steamboat Rock',\n",
       " 'Steamboat Rock',\n",
       " 'twenty!!',\n",
       " ['Steamboat Rock', 'twenty!!']]"
      ]
     },
     "execution_count": 36,
     "metadata": {},
     "output_type": "execute_result"
    }
   ],
   "source": [
    "archesList"
   ]
  },
  {
   "cell_type": "code",
   "execution_count": 55,
   "metadata": {},
   "outputs": [
    {
     "name": "stdout",
     "output_type": "stream",
     "text": [
      "[['Silvermine Arch', [-83.6243]], ['Castle Arch', [-83.5796]], ['Rock Bridge Arch', [-83.5582]]]\n"
     ]
    }
   ],
   "source": [
    "\n",
    "# A list of lists representing coordinates\n",
    "archesList = ['Silvermine Arch', 'Castle Arch', 'Rock Bridge Arch']\n",
    "archCoords = [[37.7873, -83.6243], [37.8123, -83.5796], [37.7686, -83.5582]]\n",
    "# Building a list of lists\n",
    "aList = [] # create empty list\n",
    "n = 0\n",
    "for i in archesList:\n",
    "    aList.extend([i, [archCoords[n][1]]]) # Pay attention to the syntax!\n",
    "    n += 1\n",
    "\n",
    "print(aList)"
   ]
  },
  {
   "cell_type": "code",
   "execution_count": 62,
   "metadata": {},
   "outputs": [
    {
     "name": "stdout",
     "output_type": "stream",
     "text": [
      "0 l\n",
      "1 s\n"
     ]
    },
    {
     "ename": "TypeError",
     "evalue": "'int' object is not subscriptable",
     "output_type": "error",
     "traceback": [
      "\u001b[0;31m---------------------------------------------------------------------------\u001b[0m",
      "\u001b[0;31mTypeError\u001b[0m                                 Traceback (most recent call last)",
      "\u001b[0;32m<ipython-input-62-edcc814997f4>\u001b[0m in \u001b[0;36m<module>\u001b[0;34m\u001b[0m\n\u001b[1;32m      4\u001b[0m \u001b[0mn\u001b[0m \u001b[0;34m=\u001b[0m \u001b[0;36m0\u001b[0m\u001b[0;34m\u001b[0m\u001b[0;34m\u001b[0m\u001b[0m\n\u001b[1;32m      5\u001b[0m \u001b[0;32mfor\u001b[0m \u001b[0mi\u001b[0m \u001b[0;32min\u001b[0m \u001b[0my\u001b[0m\u001b[0;34m:\u001b[0m\u001b[0;34m\u001b[0m\u001b[0;34m\u001b[0m\u001b[0m\n\u001b[0;32m----> 6\u001b[0;31m     \u001b[0mprint\u001b[0m\u001b[0;34m(\u001b[0m\u001b[0mi\u001b[0m\u001b[0;34m,\u001b[0m \u001b[0marchesList\u001b[0m\u001b[0;34m[\u001b[0m\u001b[0mi\u001b[0m\u001b[0;34m]\u001b[0m\u001b[0;34m[\u001b[0m\u001b[0;36m2\u001b[0m\u001b[0;34m]\u001b[0m\u001b[0;34m)\u001b[0m\u001b[0;34m\u001b[0m\u001b[0;34m\u001b[0m\u001b[0m\n\u001b[0m",
      "\u001b[0;31mTypeError\u001b[0m: 'int' object is not subscriptable"
     ]
    }
   ],
   "source": [
    "archesList = ['Silvermine Arch', 'Castle Arch', 'Rock Bridge Arch'] \n",
    "x = len(archesList) # returns 3\n",
    "y = (range(x)) # returns range(0,3)\n",
    "n = 0\n",
    "for i in y:\n",
    "    print(i, archesList[i][2])"
   ]
  },
  {
   "cell_type": "code",
   "execution_count": 13,
   "metadata": {},
   "outputs": [
    {
     "name": "stdout",
     "output_type": "stream",
     "text": [
      "0\n",
      "1\n",
      "2\n",
      "3\n",
      "4\n",
      "5\n",
      "0 Silvermine Arch\n",
      "1 Rock Bridge Arch\n",
      "2 Castle Arch\n"
     ]
    }
   ],
   "source": [
    "for i in range(6):\n",
    "    print(i)\n",
    "for i in range(len(archesList)):\n",
    "    print(i, archesList[i])"
   ]
  },
  {
   "cell_type": "code",
   "execution_count": 17,
   "metadata": {},
   "outputs": [
    {
     "name": "stdout",
     "output_type": "stream",
     "text": [
      "0 S\n",
      "1 i\n",
      "2 l\n",
      "3 v\n",
      "4 e\n",
      "5 r\n",
      "6 m\n",
      "7 i\n",
      "8 n\n",
      "9 e\n",
      "10  \n",
      "11 A\n",
      "12 r\n",
      "13 c\n",
      "14 h\n",
      "0 R\n",
      "1 o\n",
      "2 c\n",
      "3 k\n",
      "4  \n",
      "5 B\n",
      "6 r\n",
      "7 i\n",
      "8 d\n",
      "9 g\n",
      "10 e\n",
      "11  \n",
      "12 A\n",
      "13 r\n",
      "14 c\n",
      "15 h\n",
      "0 C\n",
      "1 a\n",
      "2 s\n",
      "3 t\n",
      "4 l\n",
      "5 e\n",
      "6  \n",
      "7 A\n",
      "8 r\n",
      "9 c\n",
      "10 h\n"
     ]
    }
   ],
   "source": [
    "for i in range(len(archesList)):\n",
    "    for j in range(len(archesList[i])):\n",
    "        print(j, archesList[i][j])"
   ]
  },
  {
   "cell_type": "code",
   "execution_count": 24,
   "metadata": {},
   "outputs": [
    {
     "name": "stdout",
     "output_type": "stream",
     "text": [
      "[[[-83.5582, 37.7686], 'Rock Bridge Arch'], [[-83.5796, 37.8123], 'Castle Arch'], [[-83.6243, 37.7873], 'Silvermine Arch']]\n"
     ]
    }
   ],
   "source": [
    "aList = []\n",
    "archesList = ['Silvermine Arch', 'Castle Arch', 'Rock Bridge Arch']\n",
    "archCoords = [[37.7873, -83.6243], [37.8123, -83.5796], [37.7686, -83.5582]]\n",
    "n = 0\n",
    "for i in archesList:\n",
    "    aList.append([[archCoords[n][1], archCoords[n][0]], i])\n",
    "    n += 1\n",
    "aList.sort(reverse=True) # reverse needed?\n",
    "print(aList)"
   ]
  },
  {
   "cell_type": "code",
   "execution_count": 28,
   "metadata": {},
   "outputs": [
    {
     "name": "stdout",
     "output_type": "stream",
     "text": [
      "Silvermine Arch Castle Arch 55\n"
     ]
    }
   ],
   "source": [
    "aList = ['Silvermine Arch', 'Castle Arch']\n",
    "(x, y) = aList\n",
    "print(x, y) # Silvermine Arch Castle Arch"
   ]
  },
  {
   "cell_type": "code",
   "execution_count": 29,
   "metadata": {},
   "outputs": [
    {
     "name": "stdout",
     "output_type": "stream",
     "text": [
      "-83.6243 37.7873\n",
      "-83.5796 37.8123\n",
      "-83.5582 37.7686\n"
     ]
    }
   ],
   "source": [
    "archCoords = [[37.7873, -83.6243], [37.8123, -83.5796], [37.7686, -83.5582]]\n",
    "for x, y in archCoords:\n",
    "    print(y, x)"
   ]
  },
  {
   "cell_type": "code",
   "execution_count": 32,
   "metadata": {},
   "outputs": [
    {
     "name": "stdout",
     "output_type": "stream",
     "text": [
      "Castle Arch [37.8123, -83.5796]\n",
      "Red-byrd Arch [37.8148, -83.5504]\n",
      "Rock Bridge Arch [37.7686, -83.5582]\n",
      "Silvermine Arch [37.7873, -83.6243]\n"
     ]
    }
   ],
   "source": [
    "archesDictionary = {\n",
    " 'Castle Arch': [37.8123, -83.5796],\n",
    " 'Red-byrd Arch': [37.8148, -83.5504],\n",
    " 'Rock Bridge Arch': [37.7686, -83.5582],\n",
    " 'Silvermine Arch': [37.7873, -83.6243]\n",
    " }\n",
    "\n",
    "for i in archesDictionary:\n",
    "    print(i, archesDictionary[i])"
   ]
  },
  {
   "cell_type": "code",
   "execution_count": 36,
   "metadata": {},
   "outputs": [
    {
     "name": "stdout",
     "output_type": "stream",
     "text": [
      "Castle Arch [37.8123, -83.5796]\n",
      "Red-byrd Arch [37.8148, -83.5504]\n",
      "Rock Bridge Arch [37.7686, -83.5582]\n",
      "Silvermine Arch [37.7873, -83.6243]\n"
     ]
    }
   ],
   "source": [
    "for k, v in archesDictionary.items(): # returns tuple of items!\n",
    "    print(k, v)"
   ]
  },
  {
   "cell_type": "code",
   "execution_count": 37,
   "metadata": {},
   "outputs": [],
   "source": [
    "spring = \"\"\"\n",
    "I've banished Winter, saith the Spring,\n",
    "Awake! arise, ye flowers!\n",
    "Brisk breezes blow,\n",
    "Bright sunshine glow,\n",
    "And rouse the young Year's powers.\n",
    "\"\"\""
   ]
  },
  {
   "cell_type": "code",
   "execution_count": 45,
   "metadata": {},
   "outputs": [
    {
     "name": "stdout",
     "output_type": "stream",
     "text": [
      "{'\\n': 6, 'I': 1, \"'\": 2, 'v': 1, 'e': 16, ' ': 17, 'b': 3, 'a': 5, 'n': 7, 'i': 8, 's': 11, 'h': 6, 'd': 2, 'W': 1, 't': 5, 'r': 10, ',': 5, 'S': 1, 'p': 2, 'g': 4, 'A': 2, 'w': 5, 'k': 2, '!': 2, 'y': 2, 'f': 1, 'l': 3, 'o': 6, 'B': 2, 'z': 1, 'u': 3, 'Y': 1, '.': 1}\n"
     ]
    }
   ],
   "source": [
    "lettersInWord = {}\n",
    "for letter in spring:\n",
    "    lettersInWord[letter] = lettersInWord.get(letter,0) + 1\n",
    "print(lettersInWord)"
   ]
  },
  {
   "cell_type": "markdown",
   "metadata": {},
   "source": [
    "someList"
   ]
  },
  {
   "cell_type": "code",
   "execution_count": 48,
   "metadata": {},
   "outputs": [
    {
     "name": "stdout",
     "output_type": "stream",
     "text": [
      "[[1, '.'], [1, 'I'], [1, 'S'], [1, 'W'], [1, 'Y'], [1, 'f'], [1, 'v'], [1, 'z'], [2, '!'], [2, \"'\"], [2, 'A'], [2, 'B'], [2, 'd'], [2, 'k'], [2, 'p'], [2, 'y'], [3, 'b'], [3, 'l'], [3, 'u'], [4, 'g'], [5, ','], [5, 'a'], [5, 't'], [5, 'w'], [6, '\\n'], [6, 'h'], [6, 'o'], [7, 'n'], [8, 'i'], [10, 'r'], [11, 's'], [16, 'e'], [17, ' ']]\n"
     ]
    }
   ],
   "source": [
    "letterCount = []\n",
    "for k, v in lettersInWord.items():\n",
    "    letterCount.append([v, k])\n",
    "letterCount.sort(reverse=True)\n",
    "print(letterCount)"
   ]
  },
  {
   "cell_type": "code",
   "execution_count": 52,
   "metadata": {},
   "outputs": [
    {
     "name": "stdout",
     "output_type": "stream",
     "text": [
      "\n",
      "\n",
      "I\n",
      "'\n",
      "v\n",
      "e\n",
      " \n",
      "b\n",
      "a\n",
      "n\n",
      "i\n",
      "s\n",
      "h\n",
      "e\n",
      "d\n",
      " \n",
      "W\n",
      "i\n",
      "n\n",
      "t\n",
      "e\n",
      "r\n",
      ",\n",
      " \n",
      "s\n",
      "a\n",
      "i\n",
      "t\n",
      "h\n",
      " \n",
      "t\n",
      "h\n",
      "e\n",
      " \n",
      "S\n",
      "p\n",
      "r\n",
      "i\n",
      "n\n",
      "g\n",
      ",\n",
      "\n",
      "\n",
      "A\n",
      "w\n",
      "a\n",
      "k\n",
      "e\n",
      "!\n",
      " \n",
      "a\n",
      "r\n",
      "i\n",
      "s\n",
      "e\n",
      ",\n",
      " \n",
      "y\n",
      "e\n",
      " \n",
      "f\n",
      "l\n",
      "o\n",
      "w\n",
      "e\n",
      "r\n",
      "s\n",
      "!\n",
      "\n",
      "\n",
      "B\n",
      "r\n",
      "i\n",
      "s\n",
      "k\n",
      " \n",
      "b\n",
      "r\n",
      "e\n",
      "e\n",
      "z\n",
      "e\n",
      "s\n",
      " \n",
      "b\n",
      "l\n",
      "o\n",
      "w\n",
      ",\n",
      "\n",
      "\n",
      "B\n",
      "r\n",
      "i\n",
      "g\n",
      "h\n",
      "t\n",
      " \n",
      "s\n",
      "u\n",
      "n\n",
      "s\n",
      "h\n",
      "i\n",
      "n\n",
      "e\n",
      " \n",
      "g\n",
      "l\n",
      "o\n",
      "w\n",
      ",\n",
      "\n",
      "\n",
      "A\n",
      "n\n",
      "d\n",
      " \n",
      "r\n",
      "o\n",
      "u\n",
      "s\n",
      "e\n",
      " \n",
      "t\n",
      "h\n",
      "e\n",
      " \n",
      "y\n",
      "o\n",
      "u\n",
      "n\n",
      "g\n",
      " \n",
      "Y\n",
      "e\n",
      "a\n",
      "r\n",
      "'\n",
      "s\n",
      " \n",
      "p\n",
      "o\n",
      "w\n",
      "e\n",
      "r\n",
      "s\n",
      ".\n",
      "\n",
      "\n"
     ]
    }
   ],
   "source": [
    "myDict = {}\n",
    "for letter in spring:\n",
    "    print(letter)\n",
    "    myDict[letter] = 1"
   ]
  },
  {
   "cell_type": "code",
   "execution_count": 53,
   "metadata": {},
   "outputs": [
    {
     "data": {
      "text/plain": [
       "{'\\n': 1,\n",
       " 'I': 1,\n",
       " \"'\": 1,\n",
       " 'v': 1,\n",
       " 'e': 1,\n",
       " ' ': 1,\n",
       " 'b': 1,\n",
       " 'a': 1,\n",
       " 'n': 1,\n",
       " 'i': 1,\n",
       " 's': 1,\n",
       " 'h': 1,\n",
       " 'd': 1,\n",
       " 'W': 1,\n",
       " 't': 1,\n",
       " 'r': 1,\n",
       " ',': 1,\n",
       " 'S': 1,\n",
       " 'p': 1,\n",
       " 'g': 1,\n",
       " 'A': 1,\n",
       " 'w': 1,\n",
       " 'k': 1,\n",
       " '!': 1,\n",
       " 'y': 1,\n",
       " 'f': 1,\n",
       " 'l': 1,\n",
       " 'o': 1,\n",
       " 'B': 1,\n",
       " 'z': 1,\n",
       " 'u': 1,\n",
       " 'Y': 1,\n",
       " '.': 1}"
      ]
     },
     "execution_count": 53,
     "metadata": {},
     "output_type": "execute_result"
    }
   ],
   "source": [
    "myDict"
   ]
  },
  {
   "cell_type": "code",
   "execution_count": null,
   "metadata": {},
   "outputs": [],
   "source": []
  }
 ],
 "metadata": {
  "kernelspec": {
   "display_name": "Python 3",
   "language": "python",
   "name": "python3"
  },
  "language_info": {
   "codemirror_mode": {
    "name": "ipython",
    "version": 3
   },
   "file_extension": ".py",
   "mimetype": "text/x-python",
   "name": "python",
   "nbconvert_exporter": "python",
   "pygments_lexer": "ipython3",
   "version": "3.6.5"
  }
 },
 "nbformat": 4,
 "nbformat_minor": 2
}
