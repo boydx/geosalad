{
 "cells": [
  {
   "cell_type": "code",
   "execution_count": null,
   "metadata": {},
   "outputs": [],
   "source": [
    "# Problem 1: \"variable names and operators\"\n",
    "# Print the output of 7 divided by 56\n",
    "blue = 7\n",
    ".red = '56'\n",
    "print(\"blue number divided by red number is:'))\n",
    "print(blue ÷ .red)"
   ]
  },
  {
   "cell_type": "code",
   "execution_count": null,
   "metadata": {},
   "outputs": [],
   "source": [
    "# Problem 2 \"conditional execution and comparison\"\n",
    "# This should run for any number entered.\n",
    "x = input(\"How many miles do you want to drive today? \")\n",
    "y = 2,622 # distance to equator\n",
    "if x = 2622:\n",
    "    print(\\\"At the equator!\\\")\n",
    "else:\n",
    "    z = (x/y)*100 \n",
    "    print(\"You are \"  z  \"% closer to the Equator.\")"
   ]
  },
  {
   "cell_type": "code",
   "execution_count": null,
   "metadata": {},
   "outputs": [],
   "source": [
    "# Python 3\n",
    "# ----- Find Arches by elevation ----- #\n",
    "# by TastyFreeze for GEO 409, UKy\n",
    "# Fall, 2018\n",
    "# ----- ------------------------ ----- #\n",
    "\n",
    "# Import site package for ArcGIS\n",
    "import arcpy"
   ]
  },
  {
   "cell_type": "markdown",
   "metadata": {},
   "source": [
    "## Building an SQL statement for ArcGIS\n",
    "\n",
    "SQL (Structured Query Language) is a simple way select attributes in ArcGIS and has been around for decades. It uses many of the same operators as Python, except the equality test is the single equals sign, not the double equal. \n",
    "\n",
    "Use [these examples](http://pro.arcgis.com/en/pro-app/help/mapping/navigation/sql-reference-for-elements-used-in-query-expressions.htm) to build a query in ArcGIS.\n",
    "\n",
    "Try hard-coding the where clause with an exact query. Use the `print()` function throughout the script to see what values are being created."
   ]
  },
  {
   "cell_type": "code",
   "execution_count": null,
   "metadata": {},
   "outputs": [],
   "source": [
    "\n",
    "# Set ArcGIS evironment\n",
    "arcpy.env.workspace = r\"Z:\\BoydsGIS\\data\\geology.gdb\"\n",
    "arcpy.env.overwriteOutput = True\n",
    "\n",
    "# Assign variables\n",
    "input_layer = \"us_arches\"\n",
    "output_path = r\"Z:\\BoydsGIS\\data\"\n",
    "\n",
    "# Prompt for user input\n",
    "print(\"This program returns all arches as .csv file at or above the minimum elevation.\")\n",
    "elevation = input(\"Enter minimum elevation: \")\n",
    "\n",
    "# Try converting to integer. Exit if not integer\n",
    "try:\n",
    "    elevationNumber = int(elevation)\n",
    "except:\n",
    "    print(\"Whoops! Try using a number.\")\n",
    "    exit()\n",
    "\n",
    "# Build the where clause, aka the SQL statement to select features\n",
    "whereClause = \"base_elevation_ft >= \" + str(elevationNumber)\n",
    "# Add a hardcoded whereClause in the following format\n",
    "# whereClause = \"field_name1 = 1234 OR field_name2 = 'String'\"\n",
    "\n",
    "# Use the TableToTable arcpy function extract by SQL query\n",
    "arcpy.TableToTable_conversion (input_layer, output_path, \"arches_by_elev.csv\", whereClause)"
   ]
  }
 ],
 "metadata": {
  "kernelspec": {
   "display_name": "Python 3",
   "language": "python",
   "name": "python3"
  },
  "language_info": {
   "codemirror_mode": {
    "name": "ipython",
    "version": 3
   },
   "file_extension": ".py",
   "mimetype": "text/x-python",
   "name": "python",
   "nbconvert_exporter": "python",
   "pygments_lexer": "ipython3",
   "version": "3.6.5"
  }
 },
 "nbformat": 4,
 "nbformat_minor": 2
}
