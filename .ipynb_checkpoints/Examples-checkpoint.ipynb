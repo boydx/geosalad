{
 "cells": [
  {
   "cell_type": "code",
   "execution_count": 3,
   "metadata": {},
   "outputs": [
    {
     "name": "stdout",
     "output_type": "stream",
     "text": [
      "Enter elevation contour value: g\n",
      "Please enter a number.\n",
      "Sorry. Not an index contour.\n",
      "All done!\n"
     ]
    }
   ],
   "source": [
    "import sys\n",
    "# Get a contour value\n",
    "contour = input(\"Enter elevation contour value: \")\n",
    "\n",
    "# Try converting the string to the number\n",
    "try: \n",
    "    # convert string type to int\n",
    "    contourNumber = int(contour)\n",
    "    if contourNumber > 4139 or contourNumber < 257:\n",
    "        print(\"Elevation outside range! Run program again.\")\n",
    "        exit() # exit function to prevent continuing\n",
    "    else:\n",
    "        print(\"OK! Got good numbers. Lets go!\")\n",
    "# if successful, the below step is skipped\n",
    "# if unsuccessful the below statement is executed and the program stops\n",
    "except: # except clause\n",
    "    print(\"Please enter a number.\")\n",
    "    exit() # exit function to prevent continuing\n",
    "\n",
    "# resume program if sucessful\n",
    "# see if it's a index contour\n",
    "if contourNumber%50 == 0: \n",
    "    if contourNumber%100 == 0:\n",
    "        print(\"Your value of \" + str(contourNumber) + \" is an index contour!\")\n",
    "    else:\n",
    "        print(\"You have an secondary index contour!\")\n",
    "else:\n",
    "    print(\"Sorry. Not an index contour.\")\n",
    "\n",
    "# tell them we are done!\n",
    "print(\"All done!\")"
   ]
  },
  {
   "cell_type": "code",
   "execution_count": null,
   "metadata": {},
   "outputs": [],
   "source": []
  },
  {
   "cell_type": "code",
   "execution_count": null,
   "metadata": {},
   "outputs": [],
   "source": []
  },
  {
   "cell_type": "code",
   "execution_count": null,
   "metadata": {},
   "outputs": [],
   "source": []
  },
  {
   "cell_type": "code",
   "execution_count": null,
   "metadata": {},
   "outputs": [],
   "source": []
  }
 ],
 "metadata": {
  "kernelspec": {
   "display_name": "Python [conda env:geoenv]",
   "language": "python",
   "name": "conda-env-geoenv-py"
  },
  "language_info": {
   "codemirror_mode": {
    "name": "ipython",
    "version": 3
   },
   "file_extension": ".py",
   "mimetype": "text/x-python",
   "name": "python",
   "nbconvert_exporter": "python",
   "pygments_lexer": "ipython3",
   "version": "3.7.0"
  }
 },
 "nbformat": 4,
 "nbformat_minor": 2
}
