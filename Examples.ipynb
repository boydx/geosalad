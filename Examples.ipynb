{
 "cells": [
  {
   "cell_type": "markdown",
   "metadata": {},
   "source": [
    "# Contour evaluation program\n",
    "The new [KyTopo Map](http://kygeonet.ky.gov/) uses lidar data to create statewide topographic maps. The 40-ft contour interval series is indexed every fifth contour. Determine if any value is an index contour or contour in Kentucky."
   ]
  },
  {
   "cell_type": "code",
   "execution_count": 2,
   "metadata": {},
   "outputs": [
    {
     "name": "stdout",
     "output_type": "stream",
     "text": [
      "Enter elevation contour value: 600\n",
      "OK! Got good numbers. Lets go!\n",
      "Your value of 600 is an index contour!\n",
      "All done!\n"
     ]
    }
   ],
   "source": [
    "# Get a contour value\n",
    "contour = input(\"Enter elevation contour value: \")\n",
    "\n",
    "# Catching syntax errors\n",
    "# Try converting the string to the number\n",
    "try: \n",
    "    # convert string type to int\n",
    "    contourNumber = int(contour)\n",
    "    # if successful, the below step is skipped\n",
    "    # if unsuccessful the below statement is executed and the program stops\n",
    "except: # except clause\n",
    "    print(\"Not a number! Run program again.\")\n",
    "    exit() # exit function to prevent continuing\n",
    "\n",
    "# Catching logic errors\n",
    "# Check to see if contour value is valid for Kentucky\n",
    "if contourNumber > 4139 or contourNumber < 257:\n",
    "    print(\"Elevation outside range! Run program again.\")\n",
    "    exit()\n",
    "else:\n",
    "    print(\"OK! Got good numbers. Lets go!\")\n",
    "\n",
    "# Check to see if it's a contour and if it's an index contour\n",
    "if contourNumber%40 == 0: \n",
    "    if contourNumber%200 == 0:\n",
    "        print(\"Your value of \" + str(contourNumber) + \" is an index contour!\")\n",
    "    else:\n",
    "        print(\"You have a contour!\")\n",
    "else:\n",
    "    print(\"Sorry. Not an index contour.\")\n",
    "\n",
    "# Tell them we are done!\n",
    "print(\"All done!\")"
   ]
  },
  {
   "cell_type": "markdown",
   "metadata": {},
   "source": [
    "![20-foot contour series](http://annessky.net/blog/wp-content/uploads/2017/11/Interval_20.png)"
   ]
  },
  {
   "cell_type": "code",
   "execution_count": 4,
   "metadata": {},
   "outputs": [],
   "source": [
    "x = 0\n",
    "while x > 7:\n",
    "    print(x)\n",
    "    x += 1"
   ]
  },
  {
   "cell_type": "code",
   "execution_count": 5,
   "metadata": {},
   "outputs": [],
   "source": [
    "states = \"AL AK AZ AR CA CO CT DC DE FL GA HI ID IL IN IA KS KY LA ME MD MA MI MN MS MO MT NE NV NH NJ NM NY NC ND OH OK OR PA RI SC SD TN TX UT VT VA WA WV WI WY\""
   ]
  },
  {
   "cell_type": "code",
   "execution_count": 6,
   "metadata": {},
   "outputs": [
    {
     "name": "stdout",
     "output_type": "stream",
     "text": [
      "Yay!\n"
     ]
    }
   ],
   "source": [
    "if 'KY' in states:\n",
    "    print(\"Yay!\")"
   ]
  },
  {
   "cell_type": "code",
   "execution_count": 7,
   "metadata": {},
   "outputs": [],
   "source": [
    "import csv "
   ]
  },
  {
   "cell_type": "code",
   "execution_count": 38,
   "metadata": {},
   "outputs": [
    {
     "name": "stdout",
     "output_type": "stream",
     "text": [
      "FEATURE_NAME\n"
     ]
    }
   ],
   "source": [
    "# Data to analyze\n",
    "myData = '/Volumes/B/BoydsGIS/data/NationalFile_20200101.txt'\n",
    "\n",
    "# What is the location and name of your output file?\n",
    "myOutput = '/Volumes/B/BoydsGIS/data/ky_cemeteries.csv'\n",
    "\n",
    "nameColumn = 1\n",
    "classColumn = 2\n",
    "stateColumn = 3\n",
    "elevationColumn = -4\n",
    "\n",
    "# Open data\n",
    "with open(myData) as csvFile:\n",
    "    # Open empty file to write output\n",
    "    with open(myOutput, \"w\") as csvOutput:\n",
    "        # Create reader object\n",
    "        reader = csv.reader(csvFile, delimiter='|')\n",
    "        # Create writer object\n",
    "        writer = csv.writer(csvOutput)\n",
    "        # Loop through records\n",
    "        for row in reader:\n",
    "            if row[1] == \"FEATURE_NAME\":\n",
    "                print(row[1])\n",
    "                writer.writerow(row)\n",
    "            if row[stateColumn] == \"KY\" and row[classColumn] == \"Cemetery\":\n",
    "#                 print(f\"{row[nameColumn]} is a {row[classColumn]} at {row[elevationColumn]} ft in elevation\")\n",
    "                # Write out selected columns\n",
    "                writer.writerow(row)"
   ]
  },
  {
   "cell_type": "code",
   "execution_count": 30,
   "metadata": {},
   "outputs": [
    {
     "name": "stdout",
     "output_type": "stream",
     "text": [
      "﻿FEATURE_ID\n"
     ]
    }
   ],
   "source": [
    "# Data to analyze\n",
    "myData = '/Volumes/B/BoydsGIS/data/NationalFile_20200101.txt'\n",
    "\n",
    "# What is the location and name of your output file?\n",
    "myOutput = '/Users/boyd/Downloads/titles.csv'\n",
    "\n",
    "nameColumn = 1\n",
    "classColumn = 2\n",
    "stateColumn = 3\n",
    "elevationColumn = -4\n",
    "\n",
    "i = 0\n",
    "\n",
    "# Open data\n",
    "with open(myData) as csvFile:\n",
    "    # Open empty file to write output\n",
    "    with open(myOutput, \"w\") as csvOutput:\n",
    "        # Create reader object\n",
    "        reader = csv.reader(csvFile, delimiter='|')\n",
    "        # Create writer object\n",
    "        writer = csv.writer(csvOutput)\n",
    "        # Loop through records\n",
    "        for row in reader:\n",
    "            if i < 1:\n",
    "                writer.writerow(row)\n",
    "                print(row[0])\n",
    "                i += 1"
   ]
  },
  {
   "cell_type": "code",
   "execution_count": null,
   "metadata": {},
   "outputs": [],
   "source": []
  }
 ],
 "metadata": {
  "kernelspec": {
   "display_name": "Python 3",
   "language": "python",
   "name": "python3"
  },
  "language_info": {
   "codemirror_mode": {
    "name": "ipython",
    "version": 3
   },
   "file_extension": ".py",
   "mimetype": "text/x-python",
   "name": "python",
   "nbconvert_exporter": "python",
   "pygments_lexer": "ipython3",
   "version": "3.7.1"
  }
 },
 "nbformat": 4,
 "nbformat_minor": 2
}
